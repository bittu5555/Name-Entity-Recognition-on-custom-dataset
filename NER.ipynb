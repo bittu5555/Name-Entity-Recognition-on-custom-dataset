{
 "cells": [
  {
   "cell_type": "markdown",
   "id": "444d3790",
   "metadata": {},
   "source": [
    "# convert train.txt to train.csv file"
   ]
  },
  {
   "cell_type": "code",
   "execution_count": null,
   "id": "0c226ec6",
   "metadata": {},
   "outputs": [],
   "source": [
    "import csv\n",
    "\n",
    "# Function to read the file and split into sentences\n",
    "def read_and_split_sentences(file_path):\n",
    "    with open(file_path, 'r') as file:\n",
    "        lines = file.read().strip().split('\\n')\n",
    "    \n",
    "    sentences = []\n",
    "    current_sentence = []\n",
    "    \n",
    "    for line in lines:\n",
    "        if line.strip() == \"\":\n",
    "            if current_sentence:\n",
    "                sentences.append(current_sentence)\n",
    "                current_sentence = []\n",
    "        else:\n",
    "            current_sentence.append(line)\n",
    "    \n",
    "    if current_sentence:\n",
    "        sentences.append(current_sentence)\n",
    "    \n",
    "    return sentences\n",
    "\n",
    "# Function to process sentences and write to CSV\n",
    "def process_and_write_to_csv(sentences, output_csv_path):\n",
    "    with open(output_csv_path, 'w', newline='') as csvfile:\n",
    "        csvwriter = csv.writer(csvfile)\n",
    "        csvwriter.writerow(['Sentence', 'Tag', 'Word'])\n",
    "        \n",
    "        for sentence_number, sentence in enumerate(sentences, start=1):\n",
    "            for line in sentence:\n",
    "                label, token = line.split('\\t')\n",
    "                csvwriter.writerow([sentence_number, label, token])\n",
    "\n",
    "# Define file paths\n",
    "input_file_path = 'Training Data for Problem 2.txt'\n",
    "output_csv_path = 'Training Data for Problem 2.csv'\n",
    "\n",
    "# Read and split sentences\n",
    "sentences = read_and_split_sentences(input_file_path)\n",
    "\n",
    "# Process sentences and write to CSV\n",
    "process_and_write_to_csv(sentences, output_csv_path)\n",
    "\n",
    "print(f\"Data has been successfully written to {output_csv_path}\")\n"
   ]
  },
  {
   "cell_type": "code",
   "execution_count": 267,
   "id": "e3933aa2",
   "metadata": {},
   "outputs": [
    {
     "data": {
      "text/html": [
       "<div>\n",
       "<style scoped>\n",
       "    .dataframe tbody tr th:only-of-type {\n",
       "        vertical-align: middle;\n",
       "    }\n",
       "\n",
       "    .dataframe tbody tr th {\n",
       "        vertical-align: top;\n",
       "    }\n",
       "\n",
       "    .dataframe thead th {\n",
       "        text-align: right;\n",
       "    }\n",
       "</style>\n",
       "<table border=\"1\" class=\"dataframe\">\n",
       "  <thead>\n",
       "    <tr style=\"text-align: right;\">\n",
       "      <th></th>\n",
       "      <th>Sentence</th>\n",
       "      <th>Tag</th>\n",
       "      <th>Word</th>\n",
       "    </tr>\n",
       "  </thead>\n",
       "  <tbody>\n",
       "    <tr>\n",
       "      <th>0</th>\n",
       "      <td>1</td>\n",
       "      <td>B-Actor</td>\n",
       "      <td>steve</td>\n",
       "    </tr>\n",
       "    <tr>\n",
       "      <th>1</th>\n",
       "      <td>1</td>\n",
       "      <td>I-Actor</td>\n",
       "      <td>mcqueen</td>\n",
       "    </tr>\n",
       "    <tr>\n",
       "      <th>2</th>\n",
       "      <td>1</td>\n",
       "      <td>O</td>\n",
       "      <td>provided</td>\n",
       "    </tr>\n",
       "    <tr>\n",
       "      <th>3</th>\n",
       "      <td>1</td>\n",
       "      <td>O</td>\n",
       "      <td>a</td>\n",
       "    </tr>\n",
       "    <tr>\n",
       "      <th>4</th>\n",
       "      <td>1</td>\n",
       "      <td>B-Plot</td>\n",
       "      <td>thrilling</td>\n",
       "    </tr>\n",
       "    <tr>\n",
       "      <th>...</th>\n",
       "      <td>...</td>\n",
       "      <td>...</td>\n",
       "      <td>...</td>\n",
       "    </tr>\n",
       "    <tr>\n",
       "      <th>158818</th>\n",
       "      <td>7816</td>\n",
       "      <td>I-Origin</td>\n",
       "      <td>on</td>\n",
       "    </tr>\n",
       "    <tr>\n",
       "      <th>158819</th>\n",
       "      <td>7816</td>\n",
       "      <td>I-Origin</td>\n",
       "      <td>a</td>\n",
       "    </tr>\n",
       "    <tr>\n",
       "      <th>158820</th>\n",
       "      <td>7816</td>\n",
       "      <td>I-Origin</td>\n",
       "      <td>nicholas</td>\n",
       "    </tr>\n",
       "    <tr>\n",
       "      <th>158821</th>\n",
       "      <td>7816</td>\n",
       "      <td>I-Origin</td>\n",
       "      <td>sparks</td>\n",
       "    </tr>\n",
       "    <tr>\n",
       "      <th>158822</th>\n",
       "      <td>7816</td>\n",
       "      <td>I-Origin</td>\n",
       "      <td>novel</td>\n",
       "    </tr>\n",
       "  </tbody>\n",
       "</table>\n",
       "<p>158823 rows × 3 columns</p>\n",
       "</div>"
      ],
      "text/plain": [
       "        Sentence       Tag       Word\n",
       "0              1   B-Actor      steve\n",
       "1              1   I-Actor    mcqueen\n",
       "2              1         O   provided\n",
       "3              1         O          a\n",
       "4              1    B-Plot  thrilling\n",
       "...          ...       ...        ...\n",
       "158818      7816  I-Origin         on\n",
       "158819      7816  I-Origin          a\n",
       "158820      7816  I-Origin   nicholas\n",
       "158821      7816  I-Origin     sparks\n",
       "158822      7816  I-Origin      novel\n",
       "\n",
       "[158823 rows x 3 columns]"
      ]
     },
     "execution_count": 267,
     "metadata": {},
     "output_type": "execute_result"
    }
   ],
   "source": [
    "import pandas as pd\n",
    "data=pd.read_csv(\"Training Data for Problem 2.csv\")\n",
    "data"
   ]
  },
  {
   "cell_type": "markdown",
   "id": "f1cd8450",
   "metadata": {},
   "source": [
    "# convert test.txt to test.csv"
   ]
  },
  {
   "cell_type": "code",
   "execution_count": 268,
   "id": "b3b026d4",
   "metadata": {},
   "outputs": [
    {
     "name": "stdout",
     "output_type": "stream",
     "text": [
      "Data has been successfully written to Test Data for Problem 2.csv\n"
     ]
    }
   ],
   "source": [
    "import csv\n",
    "\n",
    "# Function to read the file and split into sentences\n",
    "def read_and_split_sentences(file_path):\n",
    "    with open(file_path, 'r') as file:\n",
    "        lines = file.read().strip().split('\\n')\n",
    "    \n",
    "    sentences = []\n",
    "    current_sentence = []\n",
    "    \n",
    "    for line in lines:\n",
    "        if line.strip() == \"\":\n",
    "            if current_sentence:\n",
    "                sentences.append(current_sentence)\n",
    "                current_sentence = []\n",
    "        else:\n",
    "            current_sentence.append(line)\n",
    "    \n",
    "    if current_sentence:\n",
    "        sentences.append(current_sentence)\n",
    "    \n",
    "    return sentences\n",
    "\n",
    "# Function to process sentences and write to CSV\n",
    "def process_and_write_to_csv(sentences, output_csv_path):\n",
    "    with open(output_csv_path, 'w', newline='') as csvfile:\n",
    "        csvwriter = csv.writer(csvfile)\n",
    "        csvwriter.writerow(['Sentence', 'Tag', 'Word'])\n",
    "        \n",
    "        for sentence_number, sentence in enumerate(sentences, start=1):\n",
    "            for line in sentence:\n",
    "                label, token = line.split('\\t')\n",
    "                csvwriter.writerow([sentence_number, label, token])\n",
    "\n",
    "# Define file paths\n",
    "input_file_path = 'Test Data for Problem 2.txt'\n",
    "output_csv_path = 'Test Data for Problem 2.csv'\n",
    "\n",
    "# Read and split sentences\n",
    "sentences = read_and_split_sentences(input_file_path)\n",
    "\n",
    "# Process sentences and write to CSV\n",
    "process_and_write_to_csv(sentences, output_csv_path)\n",
    "\n",
    "print(f\"Data has been successfully written to {output_csv_path}\")\n"
   ]
  },
  {
   "cell_type": "code",
   "execution_count": 269,
   "id": "fd896f56",
   "metadata": {},
   "outputs": [
    {
     "data": {
      "text/html": [
       "<div>\n",
       "<style scoped>\n",
       "    .dataframe tbody tr th:only-of-type {\n",
       "        vertical-align: middle;\n",
       "    }\n",
       "\n",
       "    .dataframe tbody tr th {\n",
       "        vertical-align: top;\n",
       "    }\n",
       "\n",
       "    .dataframe thead th {\n",
       "        text-align: right;\n",
       "    }\n",
       "</style>\n",
       "<table border=\"1\" class=\"dataframe\">\n",
       "  <thead>\n",
       "    <tr style=\"text-align: right;\">\n",
       "      <th></th>\n",
       "      <th>Sentence</th>\n",
       "      <th>Tag</th>\n",
       "      <th>Word</th>\n",
       "    </tr>\n",
       "  </thead>\n",
       "  <tbody>\n",
       "    <tr>\n",
       "      <th>0</th>\n",
       "      <td>1</td>\n",
       "      <td>O</td>\n",
       "      <td>i</td>\n",
       "    </tr>\n",
       "    <tr>\n",
       "      <th>1</th>\n",
       "      <td>1</td>\n",
       "      <td>O</td>\n",
       "      <td>need</td>\n",
       "    </tr>\n",
       "    <tr>\n",
       "      <th>2</th>\n",
       "      <td>1</td>\n",
       "      <td>O</td>\n",
       "      <td>that</td>\n",
       "    </tr>\n",
       "    <tr>\n",
       "      <th>3</th>\n",
       "      <td>1</td>\n",
       "      <td>O</td>\n",
       "      <td>movie</td>\n",
       "    </tr>\n",
       "    <tr>\n",
       "      <th>4</th>\n",
       "      <td>1</td>\n",
       "      <td>O</td>\n",
       "      <td>which</td>\n",
       "    </tr>\n",
       "    <tr>\n",
       "      <th>...</th>\n",
       "      <td>...</td>\n",
       "      <td>...</td>\n",
       "      <td>...</td>\n",
       "    </tr>\n",
       "    <tr>\n",
       "      <th>39030</th>\n",
       "      <td>1953</td>\n",
       "      <td>I-Origin</td>\n",
       "      <td>the</td>\n",
       "    </tr>\n",
       "    <tr>\n",
       "      <th>39031</th>\n",
       "      <td>1953</td>\n",
       "      <td>I-Origin</td>\n",
       "      <td>novel</td>\n",
       "    </tr>\n",
       "    <tr>\n",
       "      <th>39032</th>\n",
       "      <td>1953</td>\n",
       "      <td>I-Origin</td>\n",
       "      <td>by</td>\n",
       "    </tr>\n",
       "    <tr>\n",
       "      <th>39033</th>\n",
       "      <td>1953</td>\n",
       "      <td>I-Origin</td>\n",
       "      <td>ben</td>\n",
       "    </tr>\n",
       "    <tr>\n",
       "      <th>39034</th>\n",
       "      <td>1953</td>\n",
       "      <td>I-Origin</td>\n",
       "      <td>sherwood</td>\n",
       "    </tr>\n",
       "  </tbody>\n",
       "</table>\n",
       "<p>39035 rows × 3 columns</p>\n",
       "</div>"
      ],
      "text/plain": [
       "       Sentence       Tag      Word\n",
       "0             1         O         i\n",
       "1             1         O      need\n",
       "2             1         O      that\n",
       "3             1         O     movie\n",
       "4             1         O     which\n",
       "...         ...       ...       ...\n",
       "39030      1953  I-Origin       the\n",
       "39031      1953  I-Origin     novel\n",
       "39032      1953  I-Origin        by\n",
       "39033      1953  I-Origin       ben\n",
       "39034      1953  I-Origin  sherwood\n",
       "\n",
       "[39035 rows x 3 columns]"
      ]
     },
     "execution_count": 269,
     "metadata": {},
     "output_type": "execute_result"
    }
   ],
   "source": [
    "import pandas as pd\n",
    "data1=pd.read_csv(\"Test Data for Problem 2.csv\")\n",
    "data1"
   ]
  },
  {
   "cell_type": "markdown",
   "id": "a6d85c80",
   "metadata": {},
   "source": [
    "# Preprocess the data"
   ]
  },
  {
   "cell_type": "code",
   "execution_count": 270,
   "id": "86f7f3e9",
   "metadata": {},
   "outputs": [
    {
     "data": {
      "text/plain": [
       "Sentence    0\n",
       "Tag         0\n",
       "Word        1\n",
       "dtype: int64"
      ]
     },
     "execution_count": 270,
     "metadata": {},
     "output_type": "execute_result"
    }
   ],
   "source": [
    "data.isnull().sum()"
   ]
  },
  {
   "cell_type": "code",
   "execution_count": 271,
   "id": "42006848",
   "metadata": {},
   "outputs": [
    {
     "data": {
      "text/html": [
       "<div>\n",
       "<style scoped>\n",
       "    .dataframe tbody tr th:only-of-type {\n",
       "        vertical-align: middle;\n",
       "    }\n",
       "\n",
       "    .dataframe tbody tr th {\n",
       "        vertical-align: top;\n",
       "    }\n",
       "\n",
       "    .dataframe thead th {\n",
       "        text-align: right;\n",
       "    }\n",
       "</style>\n",
       "<table border=\"1\" class=\"dataframe\">\n",
       "  <thead>\n",
       "    <tr style=\"text-align: right;\">\n",
       "      <th></th>\n",
       "      <th>Sentence</th>\n",
       "      <th>Tag</th>\n",
       "      <th>Word</th>\n",
       "    </tr>\n",
       "  </thead>\n",
       "  <tbody>\n",
       "    <tr>\n",
       "      <th>0</th>\n",
       "      <td>1</td>\n",
       "      <td>B-Actor</td>\n",
       "      <td>steve</td>\n",
       "    </tr>\n",
       "    <tr>\n",
       "      <th>1</th>\n",
       "      <td>1</td>\n",
       "      <td>I-Actor</td>\n",
       "      <td>mcqueen</td>\n",
       "    </tr>\n",
       "    <tr>\n",
       "      <th>2</th>\n",
       "      <td>1</td>\n",
       "      <td>O</td>\n",
       "      <td>provided</td>\n",
       "    </tr>\n",
       "    <tr>\n",
       "      <th>3</th>\n",
       "      <td>1</td>\n",
       "      <td>O</td>\n",
       "      <td>a</td>\n",
       "    </tr>\n",
       "    <tr>\n",
       "      <th>4</th>\n",
       "      <td>1</td>\n",
       "      <td>B-Plot</td>\n",
       "      <td>thrilling</td>\n",
       "    </tr>\n",
       "    <tr>\n",
       "      <th>...</th>\n",
       "      <td>...</td>\n",
       "      <td>...</td>\n",
       "      <td>...</td>\n",
       "    </tr>\n",
       "    <tr>\n",
       "      <th>158818</th>\n",
       "      <td>7816</td>\n",
       "      <td>I-Origin</td>\n",
       "      <td>on</td>\n",
       "    </tr>\n",
       "    <tr>\n",
       "      <th>158819</th>\n",
       "      <td>7816</td>\n",
       "      <td>I-Origin</td>\n",
       "      <td>a</td>\n",
       "    </tr>\n",
       "    <tr>\n",
       "      <th>158820</th>\n",
       "      <td>7816</td>\n",
       "      <td>I-Origin</td>\n",
       "      <td>nicholas</td>\n",
       "    </tr>\n",
       "    <tr>\n",
       "      <th>158821</th>\n",
       "      <td>7816</td>\n",
       "      <td>I-Origin</td>\n",
       "      <td>sparks</td>\n",
       "    </tr>\n",
       "    <tr>\n",
       "      <th>158822</th>\n",
       "      <td>7816</td>\n",
       "      <td>I-Origin</td>\n",
       "      <td>novel</td>\n",
       "    </tr>\n",
       "  </tbody>\n",
       "</table>\n",
       "<p>158822 rows × 3 columns</p>\n",
       "</div>"
      ],
      "text/plain": [
       "        Sentence       Tag       Word\n",
       "0              1   B-Actor      steve\n",
       "1              1   I-Actor    mcqueen\n",
       "2              1         O   provided\n",
       "3              1         O          a\n",
       "4              1    B-Plot  thrilling\n",
       "...          ...       ...        ...\n",
       "158818      7816  I-Origin         on\n",
       "158819      7816  I-Origin          a\n",
       "158820      7816  I-Origin   nicholas\n",
       "158821      7816  I-Origin     sparks\n",
       "158822      7816  I-Origin      novel\n",
       "\n",
       "[158822 rows x 3 columns]"
      ]
     },
     "execution_count": 271,
     "metadata": {},
     "output_type": "execute_result"
    }
   ],
   "source": [
    "droprow=data.dropna()\n",
    "droprow"
   ]
  },
  {
   "cell_type": "code",
   "execution_count": 272,
   "id": "f6bc53ed",
   "metadata": {},
   "outputs": [],
   "source": [
    "droprow.to_csv(\"final_train.csv\",index=False)\n",
    "data1.to_csv(\"final_test.csv\",index=False)\n"
   ]
  },
  {
   "cell_type": "markdown",
   "id": "73857a2f",
   "metadata": {},
   "source": [
    "# Apply transformer for Name Entity Recognition"
   ]
  },
  {
   "cell_type": "code",
   "execution_count": 273,
   "id": "5b052040",
   "metadata": {},
   "outputs": [
    {
     "name": "stdout",
     "output_type": "stream",
     "text": [
      "Requirement already satisfied: ctransformers in c:\\users\\sayak\\anaconda3\\lib\\site-packages (0.2.27)\n",
      "Requirement already satisfied: py-cpuinfo<10.0.0,>=9.0.0 in c:\\users\\sayak\\anaconda3\\lib\\site-packages (from ctransformers) (9.0.0)\n",
      "Requirement already satisfied: huggingface-hub in c:\\users\\sayak\\anaconda3\\lib\\site-packages (from ctransformers) (0.23.0)\n",
      "Requirement already satisfied: pyyaml>=5.1 in c:\\users\\sayak\\anaconda3\\lib\\site-packages (from huggingface-hub->ctransformers) (6.0)\n",
      "Requirement already satisfied: requests in c:\\users\\sayak\\anaconda3\\lib\\site-packages (from huggingface-hub->ctransformers) (2.27.1)\n",
      "Requirement already satisfied: tqdm>=4.42.1 in c:\\users\\sayak\\anaconda3\\lib\\site-packages (from huggingface-hub->ctransformers) (4.64.0)\n",
      "Requirement already satisfied: typing-extensions>=3.7.4.3 in c:\\users\\sayak\\anaconda3\\lib\\site-packages (from huggingface-hub->ctransformers) (4.9.0)\n",
      "Requirement already satisfied: fsspec>=2023.5.0 in c:\\users\\sayak\\anaconda3\\lib\\site-packages (from huggingface-hub->ctransformers) (2023.10.0)\n",
      "Requirement already satisfied: packaging>=20.9 in c:\\users\\sayak\\anaconda3\\lib\\site-packages (from huggingface-hub->ctransformers) (23.2)\n",
      "Requirement already satisfied: filelock in c:\\users\\sayak\\anaconda3\\lib\\site-packages (from huggingface-hub->ctransformers) (3.6.0)\n",
      "Requirement already satisfied: colorama in c:\\users\\sayak\\anaconda3\\lib\\site-packages (from tqdm>=4.42.1->huggingface-hub->ctransformers) (0.4.6)\n",
      "Requirement already satisfied: idna<4,>=2.5 in c:\\users\\sayak\\anaconda3\\lib\\site-packages (from requests->huggingface-hub->ctransformers) (2.10)\n",
      "Requirement already satisfied: charset-normalizer~=2.0.0 in c:\\users\\sayak\\anaconda3\\lib\\site-packages (from requests->huggingface-hub->ctransformers) (2.0.4)\n",
      "Requirement already satisfied: certifi>=2017.4.17 in c:\\users\\sayak\\anaconda3\\lib\\site-packages (from requests->huggingface-hub->ctransformers) (2021.10.8)\n",
      "Requirement already satisfied: urllib3<1.27,>=1.21.1 in c:\\users\\sayak\\anaconda3\\lib\\site-packages (from requests->huggingface-hub->ctransformers) (1.26.18)\n"
     ]
    }
   ],
   "source": [
    "!pip install ctransformers"
   ]
  },
  {
   "cell_type": "code",
   "execution_count": 274,
   "id": "a8efeabc",
   "metadata": {},
   "outputs": [],
   "source": [
    "import pandas as pd\n",
    "data2 = pd.read_csv(\"final_train.csv\",encoding=\"latin1\" )\n",
    "data3 = pd.read_csv(\"final_test.csv\",encoding=\"latin1\" )"
   ]
  },
  {
   "cell_type": "code",
   "execution_count": 275,
   "id": "5e2ddc6d",
   "metadata": {},
   "outputs": [
    {
     "data": {
      "text/html": [
       "<div>\n",
       "<style scoped>\n",
       "    .dataframe tbody tr th:only-of-type {\n",
       "        vertical-align: middle;\n",
       "    }\n",
       "\n",
       "    .dataframe tbody tr th {\n",
       "        vertical-align: top;\n",
       "    }\n",
       "\n",
       "    .dataframe thead th {\n",
       "        text-align: right;\n",
       "    }\n",
       "</style>\n",
       "<table border=\"1\" class=\"dataframe\">\n",
       "  <thead>\n",
       "    <tr style=\"text-align: right;\">\n",
       "      <th></th>\n",
       "      <th>Sentence</th>\n",
       "      <th>Tag</th>\n",
       "      <th>Word</th>\n",
       "    </tr>\n",
       "  </thead>\n",
       "  <tbody>\n",
       "    <tr>\n",
       "      <th>0</th>\n",
       "      <td>1</td>\n",
       "      <td>B-Actor</td>\n",
       "      <td>steve</td>\n",
       "    </tr>\n",
       "    <tr>\n",
       "      <th>1</th>\n",
       "      <td>1</td>\n",
       "      <td>I-Actor</td>\n",
       "      <td>mcqueen</td>\n",
       "    </tr>\n",
       "    <tr>\n",
       "      <th>2</th>\n",
       "      <td>1</td>\n",
       "      <td>O</td>\n",
       "      <td>provided</td>\n",
       "    </tr>\n",
       "    <tr>\n",
       "      <th>3</th>\n",
       "      <td>1</td>\n",
       "      <td>O</td>\n",
       "      <td>a</td>\n",
       "    </tr>\n",
       "    <tr>\n",
       "      <th>4</th>\n",
       "      <td>1</td>\n",
       "      <td>B-Plot</td>\n",
       "      <td>thrilling</td>\n",
       "    </tr>\n",
       "  </tbody>\n",
       "</table>\n",
       "</div>"
      ],
      "text/plain": [
       "   Sentence      Tag       Word\n",
       "0         1  B-Actor      steve\n",
       "1         1  I-Actor    mcqueen\n",
       "2         1        O   provided\n",
       "3         1        O          a\n",
       "4         1   B-Plot  thrilling"
      ]
     },
     "execution_count": 275,
     "metadata": {},
     "output_type": "execute_result"
    }
   ],
   "source": [
    "data2.head()"
   ]
  },
  {
   "cell_type": "code",
   "execution_count": 276,
   "id": "255e2449",
   "metadata": {},
   "outputs": [],
   "source": [
    "#from sklearn.model_selection import train_test_split\n",
    "from sklearn.metrics import accuracy_score"
   ]
  },
  {
   "cell_type": "code",
   "execution_count": 277,
   "id": "dc0cb1e1",
   "metadata": {},
   "outputs": [],
   "source": [
    "data2.rename(columns={\"Sentence\":\"sentence_id\",\"Word\":\"words\",\"Tag\":\"labels\"}, inplace =True)"
   ]
  },
  {
   "cell_type": "code",
   "execution_count": 278,
   "id": "89a4ee3b",
   "metadata": {},
   "outputs": [],
   "source": [
    "data3.rename(columns={\"Sentence\":\"sentence_id\",\"Word\":\"words\",\"Tag\":\"labels\"}, inplace =True)"
   ]
  },
  {
   "cell_type": "code",
   "execution_count": 282,
   "id": "6281367a",
   "metadata": {},
   "outputs": [],
   "source": [
    "data2[\"labels\"] = data2[\"labels\"].str.upper()\n",
    "data3[\"labels\"] = data3[\"labels\"].str.upper()"
   ]
  },
  {
   "cell_type": "code",
   "execution_count": 283,
   "id": "2cd7f0ae",
   "metadata": {},
   "outputs": [],
   "source": [
    "#X= data[[\"sentence_id\",\"words\"]]\n",
    "#Y =data[\"labels\"]"
   ]
  },
  {
   "cell_type": "code",
   "execution_count": 285,
   "id": "f7692be7",
   "metadata": {},
   "outputs": [
    {
     "data": {
      "text/html": [
       "<div>\n",
       "<style scoped>\n",
       "    .dataframe tbody tr th:only-of-type {\n",
       "        vertical-align: middle;\n",
       "    }\n",
       "\n",
       "    .dataframe tbody tr th {\n",
       "        vertical-align: top;\n",
       "    }\n",
       "\n",
       "    .dataframe thead th {\n",
       "        text-align: right;\n",
       "    }\n",
       "</style>\n",
       "<table border=\"1\" class=\"dataframe\">\n",
       "  <thead>\n",
       "    <tr style=\"text-align: right;\">\n",
       "      <th></th>\n",
       "      <th>sentence_id</th>\n",
       "      <th>labels</th>\n",
       "      <th>words</th>\n",
       "    </tr>\n",
       "  </thead>\n",
       "  <tbody>\n",
       "    <tr>\n",
       "      <th>0</th>\n",
       "      <td>1</td>\n",
       "      <td>B-ACTOR</td>\n",
       "      <td>steve</td>\n",
       "    </tr>\n",
       "    <tr>\n",
       "      <th>1</th>\n",
       "      <td>1</td>\n",
       "      <td>I-ACTOR</td>\n",
       "      <td>mcqueen</td>\n",
       "    </tr>\n",
       "    <tr>\n",
       "      <th>2</th>\n",
       "      <td>1</td>\n",
       "      <td>O</td>\n",
       "      <td>provided</td>\n",
       "    </tr>\n",
       "    <tr>\n",
       "      <th>3</th>\n",
       "      <td>1</td>\n",
       "      <td>O</td>\n",
       "      <td>a</td>\n",
       "    </tr>\n",
       "    <tr>\n",
       "      <th>4</th>\n",
       "      <td>1</td>\n",
       "      <td>B-PLOT</td>\n",
       "      <td>thrilling</td>\n",
       "    </tr>\n",
       "    <tr>\n",
       "      <th>...</th>\n",
       "      <td>...</td>\n",
       "      <td>...</td>\n",
       "      <td>...</td>\n",
       "    </tr>\n",
       "    <tr>\n",
       "      <th>158817</th>\n",
       "      <td>7816</td>\n",
       "      <td>I-ORIGIN</td>\n",
       "      <td>on</td>\n",
       "    </tr>\n",
       "    <tr>\n",
       "      <th>158818</th>\n",
       "      <td>7816</td>\n",
       "      <td>I-ORIGIN</td>\n",
       "      <td>a</td>\n",
       "    </tr>\n",
       "    <tr>\n",
       "      <th>158819</th>\n",
       "      <td>7816</td>\n",
       "      <td>I-ORIGIN</td>\n",
       "      <td>nicholas</td>\n",
       "    </tr>\n",
       "    <tr>\n",
       "      <th>158820</th>\n",
       "      <td>7816</td>\n",
       "      <td>I-ORIGIN</td>\n",
       "      <td>sparks</td>\n",
       "    </tr>\n",
       "    <tr>\n",
       "      <th>158821</th>\n",
       "      <td>7816</td>\n",
       "      <td>I-ORIGIN</td>\n",
       "      <td>novel</td>\n",
       "    </tr>\n",
       "  </tbody>\n",
       "</table>\n",
       "<p>158822 rows × 3 columns</p>\n",
       "</div>"
      ],
      "text/plain": [
       "        sentence_id    labels      words\n",
       "0                 1   B-ACTOR      steve\n",
       "1                 1   I-ACTOR    mcqueen\n",
       "2                 1         O   provided\n",
       "3                 1         O          a\n",
       "4                 1    B-PLOT  thrilling\n",
       "...             ...       ...        ...\n",
       "158817         7816  I-ORIGIN         on\n",
       "158818         7816  I-ORIGIN          a\n",
       "158819         7816  I-ORIGIN   nicholas\n",
       "158820         7816  I-ORIGIN     sparks\n",
       "158821         7816  I-ORIGIN      novel\n",
       "\n",
       "[158822 rows x 3 columns]"
      ]
     },
     "execution_count": 285,
     "metadata": {},
     "output_type": "execute_result"
    }
   ],
   "source": [
    "data2"
   ]
  },
  {
   "cell_type": "code",
   "execution_count": 233,
   "id": "4f2a5df7",
   "metadata": {},
   "outputs": [],
   "source": [
    "#x_train, x_test, y_train, y_test = train_test_split(X,Y, test_size =0.2)     "
   ]
  },
  {
   "cell_type": "code",
   "execution_count": 286,
   "id": "d9974137",
   "metadata": {},
   "outputs": [],
   "source": [
    "#building up train data and test data\n",
    "#train_data = pd.DataFrame({\"sentence_id\":x_train[\"sentence_id\"],\"words\":x_train[\"words\"],\"labels\":y_train})\n",
    "#test_data = pd.DataFrame({\"sentence_id\":x_test[\"sentence_id\"],\"words\":x_test[\"words\"],\"labels\":y_test})\n",
    "train_data = data2\n",
    "test_data = data3"
   ]
  },
  {
   "cell_type": "code",
   "execution_count": 287,
   "id": "906dbb1d",
   "metadata": {},
   "outputs": [
    {
     "data": {
      "text/html": [
       "<div>\n",
       "<style scoped>\n",
       "    .dataframe tbody tr th:only-of-type {\n",
       "        vertical-align: middle;\n",
       "    }\n",
       "\n",
       "    .dataframe tbody tr th {\n",
       "        vertical-align: top;\n",
       "    }\n",
       "\n",
       "    .dataframe thead th {\n",
       "        text-align: right;\n",
       "    }\n",
       "</style>\n",
       "<table border=\"1\" class=\"dataframe\">\n",
       "  <thead>\n",
       "    <tr style=\"text-align: right;\">\n",
       "      <th></th>\n",
       "      <th>sentence_id</th>\n",
       "      <th>labels</th>\n",
       "      <th>words</th>\n",
       "    </tr>\n",
       "  </thead>\n",
       "  <tbody>\n",
       "    <tr>\n",
       "      <th>0</th>\n",
       "      <td>1</td>\n",
       "      <td>B-ACTOR</td>\n",
       "      <td>steve</td>\n",
       "    </tr>\n",
       "    <tr>\n",
       "      <th>1</th>\n",
       "      <td>1</td>\n",
       "      <td>I-ACTOR</td>\n",
       "      <td>mcqueen</td>\n",
       "    </tr>\n",
       "    <tr>\n",
       "      <th>2</th>\n",
       "      <td>1</td>\n",
       "      <td>O</td>\n",
       "      <td>provided</td>\n",
       "    </tr>\n",
       "    <tr>\n",
       "      <th>3</th>\n",
       "      <td>1</td>\n",
       "      <td>O</td>\n",
       "      <td>a</td>\n",
       "    </tr>\n",
       "    <tr>\n",
       "      <th>4</th>\n",
       "      <td>1</td>\n",
       "      <td>B-PLOT</td>\n",
       "      <td>thrilling</td>\n",
       "    </tr>\n",
       "    <tr>\n",
       "      <th>...</th>\n",
       "      <td>...</td>\n",
       "      <td>...</td>\n",
       "      <td>...</td>\n",
       "    </tr>\n",
       "    <tr>\n",
       "      <th>158817</th>\n",
       "      <td>7816</td>\n",
       "      <td>I-ORIGIN</td>\n",
       "      <td>on</td>\n",
       "    </tr>\n",
       "    <tr>\n",
       "      <th>158818</th>\n",
       "      <td>7816</td>\n",
       "      <td>I-ORIGIN</td>\n",
       "      <td>a</td>\n",
       "    </tr>\n",
       "    <tr>\n",
       "      <th>158819</th>\n",
       "      <td>7816</td>\n",
       "      <td>I-ORIGIN</td>\n",
       "      <td>nicholas</td>\n",
       "    </tr>\n",
       "    <tr>\n",
       "      <th>158820</th>\n",
       "      <td>7816</td>\n",
       "      <td>I-ORIGIN</td>\n",
       "      <td>sparks</td>\n",
       "    </tr>\n",
       "    <tr>\n",
       "      <th>158821</th>\n",
       "      <td>7816</td>\n",
       "      <td>I-ORIGIN</td>\n",
       "      <td>novel</td>\n",
       "    </tr>\n",
       "  </tbody>\n",
       "</table>\n",
       "<p>158822 rows × 3 columns</p>\n",
       "</div>"
      ],
      "text/plain": [
       "        sentence_id    labels      words\n",
       "0                 1   B-ACTOR      steve\n",
       "1                 1   I-ACTOR    mcqueen\n",
       "2                 1         O   provided\n",
       "3                 1         O          a\n",
       "4                 1    B-PLOT  thrilling\n",
       "...             ...       ...        ...\n",
       "158817         7816  I-ORIGIN         on\n",
       "158818         7816  I-ORIGIN          a\n",
       "158819         7816  I-ORIGIN   nicholas\n",
       "158820         7816  I-ORIGIN     sparks\n",
       "158821         7816  I-ORIGIN      novel\n",
       "\n",
       "[158822 rows x 3 columns]"
      ]
     },
     "execution_count": 287,
     "metadata": {},
     "output_type": "execute_result"
    }
   ],
   "source": [
    "train_data"
   ]
  },
  {
   "cell_type": "code",
   "execution_count": 288,
   "id": "2ba5d36d",
   "metadata": {},
   "outputs": [
    {
     "data": {
      "text/html": [
       "<div>\n",
       "<style scoped>\n",
       "    .dataframe tbody tr th:only-of-type {\n",
       "        vertical-align: middle;\n",
       "    }\n",
       "\n",
       "    .dataframe tbody tr th {\n",
       "        vertical-align: top;\n",
       "    }\n",
       "\n",
       "    .dataframe thead th {\n",
       "        text-align: right;\n",
       "    }\n",
       "</style>\n",
       "<table border=\"1\" class=\"dataframe\">\n",
       "  <thead>\n",
       "    <tr style=\"text-align: right;\">\n",
       "      <th></th>\n",
       "      <th>sentence_id</th>\n",
       "      <th>labels</th>\n",
       "      <th>words</th>\n",
       "    </tr>\n",
       "  </thead>\n",
       "  <tbody>\n",
       "    <tr>\n",
       "      <th>0</th>\n",
       "      <td>1</td>\n",
       "      <td>O</td>\n",
       "      <td>i</td>\n",
       "    </tr>\n",
       "    <tr>\n",
       "      <th>1</th>\n",
       "      <td>1</td>\n",
       "      <td>O</td>\n",
       "      <td>need</td>\n",
       "    </tr>\n",
       "    <tr>\n",
       "      <th>2</th>\n",
       "      <td>1</td>\n",
       "      <td>O</td>\n",
       "      <td>that</td>\n",
       "    </tr>\n",
       "    <tr>\n",
       "      <th>3</th>\n",
       "      <td>1</td>\n",
       "      <td>O</td>\n",
       "      <td>movie</td>\n",
       "    </tr>\n",
       "    <tr>\n",
       "      <th>4</th>\n",
       "      <td>1</td>\n",
       "      <td>O</td>\n",
       "      <td>which</td>\n",
       "    </tr>\n",
       "    <tr>\n",
       "      <th>...</th>\n",
       "      <td>...</td>\n",
       "      <td>...</td>\n",
       "      <td>...</td>\n",
       "    </tr>\n",
       "    <tr>\n",
       "      <th>39030</th>\n",
       "      <td>1953</td>\n",
       "      <td>I-ORIGIN</td>\n",
       "      <td>the</td>\n",
       "    </tr>\n",
       "    <tr>\n",
       "      <th>39031</th>\n",
       "      <td>1953</td>\n",
       "      <td>I-ORIGIN</td>\n",
       "      <td>novel</td>\n",
       "    </tr>\n",
       "    <tr>\n",
       "      <th>39032</th>\n",
       "      <td>1953</td>\n",
       "      <td>I-ORIGIN</td>\n",
       "      <td>by</td>\n",
       "    </tr>\n",
       "    <tr>\n",
       "      <th>39033</th>\n",
       "      <td>1953</td>\n",
       "      <td>I-ORIGIN</td>\n",
       "      <td>ben</td>\n",
       "    </tr>\n",
       "    <tr>\n",
       "      <th>39034</th>\n",
       "      <td>1953</td>\n",
       "      <td>I-ORIGIN</td>\n",
       "      <td>sherwood</td>\n",
       "    </tr>\n",
       "  </tbody>\n",
       "</table>\n",
       "<p>39035 rows × 3 columns</p>\n",
       "</div>"
      ],
      "text/plain": [
       "       sentence_id    labels     words\n",
       "0                1         O         i\n",
       "1                1         O      need\n",
       "2                1         O      that\n",
       "3                1         O     movie\n",
       "4                1         O     which\n",
       "...            ...       ...       ...\n",
       "39030         1953  I-ORIGIN       the\n",
       "39031         1953  I-ORIGIN     novel\n",
       "39032         1953  I-ORIGIN        by\n",
       "39033         1953  I-ORIGIN       ben\n",
       "39034         1953  I-ORIGIN  sherwood\n",
       "\n",
       "[39035 rows x 3 columns]"
      ]
     },
     "execution_count": 288,
     "metadata": {},
     "output_type": "execute_result"
    }
   ],
   "source": [
    "test_data"
   ]
  },
  {
   "cell_type": "markdown",
   "id": "797a00ef",
   "metadata": {},
   "source": [
    "# Start the training for NER"
   ]
  },
  {
   "cell_type": "code",
   "execution_count": 289,
   "id": "4547f7d7",
   "metadata": {},
   "outputs": [],
   "source": [
    "#model training\n",
    "from simpletransformers.ner import NERModel,NERArgs"
   ]
  },
  {
   "cell_type": "code",
   "execution_count": 291,
   "id": "89be3da3",
   "metadata": {},
   "outputs": [
    {
     "data": {
      "text/plain": [
       "['B-ACTOR',\n",
       " 'I-ACTOR',\n",
       " 'O',\n",
       " 'B-PLOT',\n",
       " 'I-PLOT',\n",
       " 'B-OPINION',\n",
       " 'I-OPINION',\n",
       " 'B-AWARD',\n",
       " 'I-AWARD',\n",
       " 'B-YEAR',\n",
       " 'B-GENRE',\n",
       " 'B-ORIGIN',\n",
       " 'I-ORIGIN',\n",
       " 'B-DIRECTOR',\n",
       " 'I-DIRECTOR',\n",
       " 'I-GENRE',\n",
       " 'I-YEAR',\n",
       " 'B-SOUNDTRACK',\n",
       " 'I-SOUNDTRACK',\n",
       " 'B-RELATIONSHIP',\n",
       " 'I-RELATIONSHIP',\n",
       " 'B-CHARACTER_NAME',\n",
       " 'I-CHARACTER_NAME',\n",
       " 'B-QUOTE',\n",
       " 'I-QUOTE']"
      ]
     },
     "execution_count": 291,
     "metadata": {},
     "output_type": "execute_result"
    }
   ],
   "source": [
    "label = data2[\"labels\"].unique().tolist()\n",
    "label"
   ]
  },
  {
   "cell_type": "code",
   "execution_count": 292,
   "id": "e776c0b6",
   "metadata": {},
   "outputs": [],
   "source": [
    "args = NERArgs()\n",
    "args.num_train_epochs = 1\n",
    "args.learning_rate = 1e-4\n",
    "args.overwrite_output_dir =True\n",
    "args.train_batch_size = 32\n",
    "args.eval_batch_size = 32"
   ]
  },
  {
   "cell_type": "code",
   "execution_count": 293,
   "id": "56df1f54",
   "metadata": {},
   "outputs": [
    {
     "name": "stderr",
     "output_type": "stream",
     "text": [
      "C:\\Users\\SAYAK\\anaconda3\\lib\\site-packages\\huggingface_hub\\file_download.py:1132: FutureWarning: `resume_download` is deprecated and will be removed in version 1.0.0. Downloads always resume when possible. If you want to force a new download, use `force_download=True`.\n",
      "  warnings.warn(\n",
      "Some weights of BertForTokenClassification were not initialized from the model checkpoint at bert-base-cased and are newly initialized: ['classifier.weight', 'classifier.bias']\n",
      "You should probably TRAIN this model on a down-stream task to be able to use it for predictions and inference.\n"
     ]
    }
   ],
   "source": [
    "\n",
    "model = NERModel('bert', 'bert-base-cased',labels=label,args =args,use_cuda=False)"
   ]
  },
  {
   "cell_type": "code",
   "execution_count": 294,
   "id": "724f0627",
   "metadata": {},
   "outputs": [
    {
     "data": {
      "application/vnd.jupyter.widget-view+json": {
       "model_id": "6157b05d38ef47028c0f0cb618b0988b",
       "version_major": 2,
       "version_minor": 0
      },
      "text/plain": [
       "  0%|          | 0/13 [00:00<?, ?it/s]"
      ]
     },
     "metadata": {},
     "output_type": "display_data"
    },
    {
     "data": {
      "application/vnd.jupyter.widget-view+json": {
       "model_id": "85c14e6e4bb741139955a7e8d6dafb3c",
       "version_major": 2,
       "version_minor": 0
      },
      "text/plain": [
       "Epoch:   0%|          | 0/1 [00:00<?, ?it/s]"
      ]
     },
     "metadata": {},
     "output_type": "display_data"
    },
    {
     "data": {
      "application/vnd.jupyter.widget-view+json": {
       "model_id": "31026da72a7e499c8951db22ed329b62",
       "version_major": 2,
       "version_minor": 0
      },
      "text/plain": [
       "Running Epoch 1 of 1:   0%|          | 0/245 [00:00<?, ?it/s]"
      ]
     },
     "metadata": {},
     "output_type": "display_data"
    },
    {
     "data": {
      "text/plain": [
       "(245, 0.5819228347466916)"
      ]
     },
     "execution_count": 294,
     "metadata": {},
     "output_type": "execute_result"
    }
   ],
   "source": [
    "\n",
    "model.train_model(train_data,eval_data = test_data,acc=accuracy_score)"
   ]
  },
  {
   "cell_type": "code",
   "execution_count": 295,
   "id": "007deee3",
   "metadata": {},
   "outputs": [
    {
     "data": {
      "application/vnd.jupyter.widget-view+json": {
       "model_id": "e55f5eeb1ef9451f844b433d046a9cbe",
       "version_major": 2,
       "version_minor": 0
      },
      "text/plain": [
       "  0%|          | 0/4 [00:00<?, ?it/s]"
      ]
     },
     "metadata": {},
     "output_type": "display_data"
    },
    {
     "data": {
      "application/vnd.jupyter.widget-view+json": {
       "model_id": "ee4e21c714fe48b69fb417c15212a20c",
       "version_major": 2,
       "version_minor": 0
      },
      "text/plain": [
       "Running Evaluation:   0%|          | 0/62 [00:00<?, ?it/s]"
      ]
     },
     "metadata": {},
     "output_type": "display_data"
    }
   ],
   "source": [
    "result, model_outputs, preds_list = model.eval_model(test_data)"
   ]
  },
  {
   "cell_type": "markdown",
   "id": "6f14716a",
   "metadata": {},
   "source": [
    "# Evaluation"
   ]
  },
  {
   "cell_type": "code",
   "execution_count": 296,
   "id": "654b2c03",
   "metadata": {},
   "outputs": [
    {
     "data": {
      "text/plain": [
       "{'eval_loss': 0.3591826835707311,\n",
       " 'precision': 0.6480357713190674,\n",
       " 'recall': 0.7136827295110798,\n",
       " 'f1_score': 0.6792768664211583}"
      ]
     },
     "execution_count": 296,
     "metadata": {},
     "output_type": "execute_result"
    }
   ],
   "source": [
    "result"
   ]
  },
  {
   "cell_type": "raw",
   "id": "5516727e",
   "metadata": {},
   "source": []
  },
  {
   "cell_type": "markdown",
   "id": "be2b41cf",
   "metadata": {},
   "source": [
    "# Test the model"
   ]
  },
  {
   "cell_type": "code",
   "execution_count": 299,
   "id": "830ca45e",
   "metadata": {},
   "outputs": [
    {
     "data": {
      "application/vnd.jupyter.widget-view+json": {
       "model_id": "3b84e3d360d6450fbe91c7bd44006df2",
       "version_major": 2,
       "version_minor": 0
      },
      "text/plain": [
       "  0%|          | 0/1 [00:00<?, ?it/s]"
      ]
     },
     "metadata": {},
     "output_type": "display_data"
    },
    {
     "data": {
      "application/vnd.jupyter.widget-view+json": {
       "model_id": "8755584fea2245399f46e8aea047a30d",
       "version_major": 2,
       "version_minor": 0
      },
      "text/plain": [
       "Running Prediction:   0%|          | 0/1 [00:00<?, ?it/s]"
      ]
     },
     "metadata": {},
     "output_type": "display_data"
    }
   ],
   "source": [
    "prediction, model_output = model.predict([\"It is based on the eponymous non-fiction book by Anurag Pathak about Manoj Kumar Sharma, The film narrates the inspiring journey of a determined student who overcomes academic setbacks and personal challenges to achieve his dream of becoming an IAS officer.It released in the year of 2024. It won the best film award\"])"
   ]
  },
  {
   "cell_type": "code",
   "execution_count": 300,
   "id": "b0d592ff",
   "metadata": {},
   "outputs": [
    {
     "data": {
      "text/plain": [
       "[[{'It': 'O'},\n",
       "  {'is': 'O'},\n",
       "  {'based': 'B-ORIGIN'},\n",
       "  {'on': 'I-ORIGIN'},\n",
       "  {'the': 'I-ORIGIN'},\n",
       "  {'eponymous': 'I-ORIGIN'},\n",
       "  {'non-fiction': 'I-ORIGIN'},\n",
       "  {'book': 'I-ORIGIN'},\n",
       "  {'by': 'I-ORIGIN'},\n",
       "  {'Anurag': 'I-ORIGIN'},\n",
       "  {'Pathak': 'I-ORIGIN'},\n",
       "  {'about': 'O'},\n",
       "  {'Manoj': 'B-CHARACTER_NAME'},\n",
       "  {'Kumar': 'I-CHARACTER_NAME'},\n",
       "  {'Sharma,': 'I-CHARACTER_NAME'},\n",
       "  {'The': 'O'},\n",
       "  {'film': 'O'},\n",
       "  {'narrates': 'B-PLOT'},\n",
       "  {'the': 'I-PLOT'},\n",
       "  {'inspiring': 'I-PLOT'},\n",
       "  {'journey': 'I-PLOT'},\n",
       "  {'of': 'I-PLOT'},\n",
       "  {'a': 'I-PLOT'},\n",
       "  {'determined': 'I-PLOT'},\n",
       "  {'student': 'I-PLOT'},\n",
       "  {'who': 'I-PLOT'},\n",
       "  {'overcomes': 'I-PLOT'},\n",
       "  {'academic': 'I-PLOT'},\n",
       "  {'setbacks': 'I-PLOT'},\n",
       "  {'and': 'I-PLOT'},\n",
       "  {'personal': 'I-PLOT'},\n",
       "  {'challenges': 'I-PLOT'},\n",
       "  {'to': 'I-PLOT'},\n",
       "  {'achieve': 'I-PLOT'},\n",
       "  {'his': 'I-PLOT'},\n",
       "  {'dream': 'I-PLOT'},\n",
       "  {'of': 'I-PLOT'},\n",
       "  {'becoming': 'I-PLOT'},\n",
       "  {'an': 'I-PLOT'},\n",
       "  {'IAS': 'I-PLOT'},\n",
       "  {'officer.It': 'I-PLOT'},\n",
       "  {'released': 'O'},\n",
       "  {'in': 'O'},\n",
       "  {'the': 'O'},\n",
       "  {'year': 'O'},\n",
       "  {'of': 'O'},\n",
       "  {'2024.': 'B-YEAR'},\n",
       "  {'It': 'O'},\n",
       "  {'won': 'O'},\n",
       "  {'the': 'O'},\n",
       "  {'best': 'B-AWARD'},\n",
       "  {'film': 'I-AWARD'},\n",
       "  {'award': 'I-AWARD'}]]"
      ]
     },
     "execution_count": 300,
     "metadata": {},
     "output_type": "execute_result"
    }
   ],
   "source": [
    "prediction"
   ]
  },
  {
   "cell_type": "code",
   "execution_count": null,
   "id": "1f5ee0e3",
   "metadata": {},
   "outputs": [],
   "source": []
  },
  {
   "cell_type": "code",
   "execution_count": null,
   "id": "b84f056b",
   "metadata": {},
   "outputs": [],
   "source": []
  }
 ],
 "metadata": {
  "kernelspec": {
   "display_name": "Python 3 (ipykernel)",
   "language": "python",
   "name": "python3"
  },
  "language_info": {
   "codemirror_mode": {
    "name": "ipython",
    "version": 3
   },
   "file_extension": ".py",
   "mimetype": "text/x-python",
   "name": "python",
   "nbconvert_exporter": "python",
   "pygments_lexer": "ipython3",
   "version": "3.9.12"
  }
 },
 "nbformat": 4,
 "nbformat_minor": 5
}
